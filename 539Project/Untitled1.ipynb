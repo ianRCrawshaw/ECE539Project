{
 "cells": [
  {
   "cell_type": "code",
   "execution_count": 1,
   "id": "e90ec99d-10cb-4150-9545-e9c541d9cd44",
   "metadata": {},
   "outputs": [],
   "source": [
    "import matplotlib.pyplot as plt\n",
    "import numpy as np\n",
    "import pandas as pd\n",
    "import tensorflow as tf\n",
    "from sklearn.model_selection import train_test_split\n",
    "from tensorflow import keras"
   ]
  },
  {
   "cell_type": "code",
   "execution_count": 2,
   "id": "2b0da221-1fab-46c6-9388-f78c4bbe5191",
   "metadata": {},
   "outputs": [],
   "source": [
    "df = pd.read_csv('flukaRunsTyped.csv', dtype='float64')"
   ]
  },
  {
   "cell_type": "code",
   "execution_count": 3,
   "id": "01419732-3483-4540-8f8a-09e089ed0438",
   "metadata": {},
   "outputs": [],
   "source": [
    "trainRatio = 0.8\n",
    "# x is the tracklength in each bin\n",
    "# y is the log of the energy\n",
    "xfull = df.to_numpy()[:,:500]\n",
    "yfull = np.log(df.to_numpy()[:,500])\n",
    "particle_labels = df.to_numpy()[:,501:507]\n",
    "xtrain, xtest, ytrain, ytest  = train_test_split(\n",
    "    xfull, yfull, train_size=trainRatio, \n",
    "    stratify=particle_labels, shuffle=True, random_state=3)"
   ]
  },
  {
   "cell_type": "code",
   "execution_count": 7,
   "id": "cfc6cf0a-ea3a-4e0c-bcd3-7c4a848a8a1b",
   "metadata": {},
   "outputs": [
    {
     "data": {
      "text/plain": [
       "<tensorflow.python.checkpoint.checkpoint.CheckpointLoadStatus at 0x288cb1db0>"
      ]
     },
     "execution_count": 7,
     "metadata": {},
     "output_type": "execute_result"
    }
   ],
   "source": [
    "# Create and reload the model\n",
    "in_size = xtrain.shape[1]\n",
    "numEpochsTune = 50\n",
    "batchSizeTune = 2000\n",
    "lInputTune = keras.Input(shape=(in_size,))\n",
    "l1Tune = keras.layers.Dense(100, activation='sigmoid',name='Tune1')(lInputTune)\n",
    "l2Tune = keras.layers.Dense(70, activation='sigmoid',name='Tune2')(l1Tune)\n",
    "l3Tune = keras.layers.Dense(40, activation='sigmoid',name='Tune3')(l2Tune)\n",
    "l4Tune = keras.layers.Dense(10, activation='sigmoid',name='Tune4')(l3Tune)\n",
    "lFinalTune = keras.layers.Dense(1, activation=None,name='TuneFinal')(l4Tune)\n",
    "\n",
    "    \n",
    "\n",
    "\n",
    "model = keras.Model(lInputTune, lFinalTune)\n",
    "model.load_weights('./modelTuneWeights')\n"
   ]
  },
  {
   "cell_type": "code",
   "execution_count": 10,
   "id": "bf84a505-252b-4e7c-929b-7264056f6ba2",
   "metadata": {},
   "outputs": [
    {
     "name": "stdout",
     "output_type": "stream",
     "text": [
      "1500/1500 [==============================] - 0s 294us/step\n"
     ]
    },
    {
     "data": {
      "text/plain": [
       "array([[6999.065   ],\n",
       "       [ 926.60004 ],\n",
       "       [ 672.24475 ],\n",
       "       ...,\n",
       "       [  95.304855],\n",
       "       [2998.656   ],\n",
       "       [ 289.3697  ]], dtype=float32)"
      ]
     },
     "execution_count": 10,
     "metadata": {},
     "output_type": "execute_result"
    }
   ],
   "source": [
    "np.exp(model.predict(xtrain))"
   ]
  },
  {
   "cell_type": "code",
   "execution_count": 5,
   "id": "3d73f021-349a-4115-9522-48b840323df3",
   "metadata": {},
   "outputs": [
    {
     "data": {
      "text/plain": [
       "(60000, 500)"
      ]
     },
     "execution_count": 5,
     "metadata": {},
     "output_type": "execute_result"
    }
   ],
   "source": [
    "xfull.shape"
   ]
  },
  {
   "cell_type": "code",
   "execution_count": 6,
   "id": "a76b3839-60be-4b10-865e-746a8875f063",
   "metadata": {},
   "outputs": [
    {
     "ename": "NameError",
     "evalue": "name 'model' is not defined",
     "output_type": "error",
     "traceback": [
      "\u001b[0;31m---------------------------------------------------------------------------\u001b[0m",
      "\u001b[0;31mNameError\u001b[0m                                 Traceback (most recent call last)",
      "Cell \u001b[0;32mIn[6], line 1\u001b[0m\n\u001b[0;32m----> 1\u001b[0m \u001b[43mmodel\u001b[49m\u001b[38;5;241m.\u001b[39msummary()\n",
      "\u001b[0;31mNameError\u001b[0m: name 'model' is not defined"
     ]
    }
   ],
   "source": [
    "model.summary()"
   ]
  },
  {
   "cell_type": "code",
   "execution_count": null,
   "id": "615d09c6-cdbd-423e-ad58-d2f06b8ff3f8",
   "metadata": {},
   "outputs": [],
   "source": []
  }
 ],
 "metadata": {
  "kernelspec": {
   "display_name": "Python 3 (ipykernel)",
   "language": "python",
   "name": "python3"
  },
  "language_info": {
   "codemirror_mode": {
    "name": "ipython",
    "version": 3
   },
   "file_extension": ".py",
   "mimetype": "text/x-python",
   "name": "python",
   "nbconvert_exporter": "python",
   "pygments_lexer": "ipython3",
   "version": "3.10.7"
  }
 },
 "nbformat": 4,
 "nbformat_minor": 5
}
